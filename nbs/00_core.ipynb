{
 "cells": [
  {
   "cell_type": "markdown",
   "metadata": {},
   "source": [
    "# Fevzi KILAS\n",
    "Data Scienist and Ai resercher"
   ]
  },
  {
   "cell_type": "markdown",
   "metadata": {},
   "source": [
    "https://niexche.github.io\n",
    "\n",
    "https://fevzikilas.github.io\n",
    "\n",
    "https://github.com/fevzikilas\n",
    "\n",
    "https://huggingface.co/NIEXCHE "
   ]
  },
  {
   "cell_type": "markdown",
   "metadata": {},
   "source": [
    "<img src=\"https://media1.giphy.com/media/v1.Y2lkPTc5MGI3NjExcnNlMXozZXBwMXlhbng4d29oZDZkanhrazZ1OGcwNnR1ZW1mYWV5ZSZlcD12MV9pbnRlcm5hbF9naWZfYnlfaWQmY3Q9Zw/Rpl1sod1vCXK0L2SUN/giphy.gif\" style=\"width: 1200px; height: auto;\">"
   ]
  },
  {
   "cell_type": "raw",
   "metadata": {},
   "source": [
    "@niexche"
   ]
  }
 ],
 "metadata": {
  "kernelspec": {
   "display_name": "Python 3 (ipykernel)",
   "language": "python",
   "name": "python3"
  },
  "language_info": {
   "codemirror_mode": {
    "name": "ipython",
    "version": 3
   },
   "file_extension": ".py",
   "mimetype": "text/x-python",
   "name": "python",
   "nbconvert_exporter": "python",
   "pygments_lexer": "ipython3",
   "version": "3.12.5"
  }
 },
 "nbformat": 4,
 "nbformat_minor": 4
}
